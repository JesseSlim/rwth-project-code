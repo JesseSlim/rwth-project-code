{
 "cells": [
  {
   "cell_type": "code",
   "execution_count": null,
   "metadata": {
    "collapsed": false
   },
   "outputs": [],
   "source": [
    "%matplotlib inline\n",
    "\n",
    "import numpy as np\n",
    "import sympy as sp\n",
    "from sympy.parsing import mathematica\n",
    "\n",
    "import matplotlib.pyplot as plt\n",
    "import rwth_project.hamiltonians as hams\n",
    "reload(hams)"
   ]
  },
  {
   "cell_type": "code",
   "execution_count": null,
   "metadata": {
    "collapsed": true
   },
   "outputs": [],
   "source": [
    "sx, sy, sz = slist = sp.symbols(\"sx sy sz\")\n",
    "H1, H1D, H1DD = sp.symbols(\"H1 H1D H1DD\")\n",
    "ww = sp.symbols(\"ww\")"
   ]
  },
  {
   "cell_type": "code",
   "execution_count": null,
   "metadata": {
    "collapsed": false
   },
   "outputs": [],
   "source": [
    "Heff0 = sp.sympify(mathematica.parse(\n",
    "    \"(H1*(H1*sz + 8*sx*ww) + (4*H1D*sy - 2*H1^2*sz)*Cos[2*a0] + 4*H1D*sx*Sin[2*a0])/(32*ww)\"\n",
    ").replace('[','(').replace(']',')').lower())"
   ]
  },
  {
   "cell_type": "code",
   "execution_count": null,
   "metadata": {
    "collapsed": false
   },
   "outputs": [],
   "source": [
    "Heff0"
   ]
  },
  {
   "cell_type": "code",
   "execution_count": null,
   "metadata": {
    "collapsed": false
   },
   "outputs": [],
   "source": [
    "test = sp.lambdify((ww, H1, H1D, H1DD), Heff0.subs(sx, 0.0), \"numpy\")"
   ]
  },
  {
   "cell_type": "code",
   "execution_count": null,
   "metadata": {
    "collapsed": false
   },
   "outputs": [],
   "source": [
    "%time test(0.0, np.ones(int(1e6))*1.0, 2.0, 3.0)"
   ]
  },
  {
   "cell_type": "code",
   "execution_count": null,
   "metadata": {
    "collapsed": false
   },
   "outputs": [],
   "source": [
    "Heff0.subs(sx, 0) == 0"
   ]
  },
  {
   "cell_type": "code",
   "execution_count": null,
   "metadata": {
    "collapsed": false
   },
   "outputs": [],
   "source": [
    "sll = list(slist)\n",
    "sels = sll.pop(0)\n",
    "print(sll)"
   ]
  },
  {
   "cell_type": "code",
   "execution_count": null,
   "metadata": {
    "collapsed": false
   },
   "outputs": [],
   "source": [
    "zip(sll, [0, 0])"
   ]
  },
  {
   "cell_type": "code",
   "execution_count": null,
   "metadata": {
    "collapsed": false
   },
   "outputs": [],
   "source": [
    "Heff0.subs([(sels, 1)] + zip(sll, [0, 0]))"
   ]
  },
  {
   "cell_type": "code",
   "execution_count": null,
   "metadata": {
    "collapsed": false
   },
   "outputs": [],
   "source": [
    "type(sll)"
   ]
  },
  {
   "cell_type": "code",
   "execution_count": null,
   "metadata": {
    "collapsed": false
   },
   "outputs": [],
   "source": [
    "[0.0] * 3"
   ]
  },
  {
   "cell_type": "code",
   "execution_count": null,
   "metadata": {
    "collapsed": true
   },
   "outputs": [],
   "source": [
    "map?"
   ]
  },
  {
   "cell_type": "code",
   "execution_count": null,
   "metadata": {
    "collapsed": false
   },
   "outputs": [],
   "source": [
    "H1 = lambda t: (1.0 - np.cos(t))\n",
    "H1D = lambda t: np.sin(t)\n",
    "H1DD = lambda t: np.cos(t)\n",
    "H1DDD = lambda t: -np.sin(t)\n",
    "H1DDDD = lambda t: -np.cos(t)\n",
    "\n",
    "H1D_funcs = [H1, H1D, H1DD, H1DDD, H1DDDD]\n",
    "\n",
    "Heff_exprs = hams.generate_Heff_expressions(1)\n",
    "print(Heff_exprs)"
   ]
  },
  {
   "cell_type": "code",
   "execution_count": null,
   "metadata": {
    "collapsed": false
   },
   "outputs": [],
   "source": [
    "Heff_funcs = hams.generate_Heff_functions(Heff_exprs, 1.0, 1.0, 0.0, H1D_funcs)"
   ]
  },
  {
   "cell_type": "code",
   "execution_count": null,
   "metadata": {
    "collapsed": false
   },
   "outputs": [],
   "source": [
    "Heff_funcs[0](np.linspace(0, 2*np.pi, 20))"
   ]
  },
  {
   "cell_type": "code",
   "execution_count": null,
   "metadata": {
    "collapsed": false
   },
   "outputs": [],
   "source": [
    "w_D = 1.0\n",
    "H_avg = 0.6\n",
    "\n",
    "H1_str = \"H_avg*cos(w_D * t)\"\n",
    "\n",
    "symH_avg, symw_D, symt = sp.symbols(\"H_avg w_D t\")\n",
    "H1_expr = sp.sympify(H1_str).subs([(symH_avg, H_avg), (symw_D, w_D)])\n",
    "\n",
    "H1D_funcs = []\n",
    "for i in range(hams.max_H1_coeff_order + 1):\n",
    "    H1D_expr = sp.diff(H1_expr, symt, i)\n",
    "    H1D_funcs.append(sp.lambdify((symt), H1D_expr, \"numpy\"))"
   ]
  },
  {
   "cell_type": "code",
   "execution_count": null,
   "metadata": {
    "collapsed": false
   },
   "outputs": [],
   "source": [
    "H1D_funcs[0](np.linspace(0,6,100))"
   ]
  },
  {
   "cell_type": "code",
   "execution_count": null,
   "metadata": {
    "collapsed": true
   },
   "outputs": [],
   "source": [
    "x, y = sp.symbols(\"x y\")"
   ]
  },
  {
   "cell_type": "code",
   "execution_count": null,
   "metadata": {
    "collapsed": false
   },
   "outputs": [],
   "source": [
    "a = sp.lambdify((x,y), sp.sin(x*y), \"numpy\")"
   ]
  },
  {
   "cell_type": "code",
   "execution_count": null,
   "metadata": {
    "collapsed": false
   },
   "outputs": [],
   "source": [
    "a(7,7)"
   ]
  },
  {
   "cell_type": "code",
   "execution_count": null,
   "metadata": {
    "collapsed": true
   },
   "outputs": [],
   "source": []
  }
 ],
 "metadata": {
  "kernelspec": {
   "display_name": "Python 2",
   "language": "python",
   "name": "python2"
  },
  "language_info": {
   "codemirror_mode": {
    "name": "ipython",
    "version": 2
   },
   "file_extension": ".py",
   "mimetype": "text/x-python",
   "name": "python",
   "nbconvert_exporter": "python",
   "pygments_lexer": "ipython2",
   "version": "2.7.13"
  }
 },
 "nbformat": 4,
 "nbformat_minor": 2
}
