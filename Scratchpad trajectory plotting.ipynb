{
 "cells": [
  {
   "cell_type": "code",
   "execution_count": null,
   "metadata": {
    "collapsed": false
   },
   "outputs": [],
   "source": [
    "%matplotlib inline\n",
    "\n",
    "import numpy as np\n",
    "import matplotlib.pyplot as plt\n",
    "from mpl_toolkits.mplot3d import Axes3D\n",
    "\n",
    "from matplotlib import animation, rc\n",
    "from IPython.display import HTML\n",
    "from numba import jit"
   ]
  },
  {
   "cell_type": "code",
   "execution_count": null,
   "metadata": {
    "collapsed": true
   },
   "outputs": [],
   "source": []
  },
  {
   "cell_type": "code",
   "execution_count": null,
   "metadata": {
    "collapsed": false
   },
   "outputs": [],
   "source": [
    "angle_range = np.linspace(0,2*np.pi,1000)\n",
    "line_range = np.linspace(-1.0, 1.0, 1000)\n",
    "circle_x = np.cos(angle_range)\n",
    "circle_y = np.sin(angle_range)\n",
    "circle_z = np.zeros_like(angle_range)\n",
    "\n",
    "circle_3d = np.vstack((circle_x, circle_y, circle_z))\n",
    "circle_3d.shape"
   ]
  },
  {
   "cell_type": "code",
   "execution_count": null,
   "metadata": {
    "collapsed": false
   },
   "outputs": [],
   "source": [
    "fig = plt.figure(figsize=(6,6))# (figsize=(7.5,6))\n",
    "\n",
    "# w = 1.0\n",
    "\n",
    "# p = (1. - w) / 2.\n",
    "\n",
    "# ax = fig.add_axes([p, p, w, w], projection='3d')\n",
    "ax = fig.add_subplot(111, projection='3d')\n",
    "ax.dist=6\n",
    "# ex = 0.35\n",
    "\n",
    "# fig.subplots_adjust(left=-ex, bottom=-ex, right=1. + ex, top=1. + ex, wspace=None, hspace=None)\n",
    "ax.set_aspect('equal')\n",
    "ax.set_axis_off()\n",
    "plt.plot(circle_x, circle_y, circle_z, color='gray')\n",
    "plt.plot(circle_z, circle_x, circle_y, color='gray')\n",
    "plt.plot(circle_y, circle_z, circle_x, color='gray')\n",
    "plt.plot(line_range, circle_z, circle_z, color='gray')\n",
    "plt.plot(circle_z, line_range, circle_z, color='gray')\n",
    "plt.plot(circle_z, circle_z, line_range, color='gray')\n",
    "\n",
    "\n",
    "plt.savefig(\"test.png\")\n",
    "plt.show()"
   ]
  },
  {
   "cell_type": "code",
   "execution_count": null,
   "metadata": {
    "collapsed": true
   },
   "outputs": [],
   "source": [
    "def init_bloch_sphere():\n",
    "    fig = plt.figure(figsize=(6,6))# (figsize=(7.5,6))\n",
    "    ax = fig.add_subplot(111, projection='3d')\n",
    "    ax.set_aspect('equal')\n",
    "    ax.set_axis_off()\n",
    "    plt.plot(circle_x, circle_y, circle_z, color='gray')\n",
    "    plt.plot(circle_z, circle_x, circle_y, color='red')\n",
    "    plt.plot(circle_y, circle_z, circle_x, color='gray')\n",
    "    plt.plot(line_range, circle_z, circle_z, color='gray')\n",
    "    plt.plot(circle_z, line_range, circle_z, color='gray')\n",
    "    plt.plot(circle_z, circle_z, line_range, color='gray')\n",
    "    \n",
    "    return fig, ax\n",
    "\n",
    "def spher_to_cart(theta, phi, r=1.0):\n",
    "    x = r * np.sin(theta) * np.cos(phi)\n",
    "    y = r * np.sin(theta) * np.sin(phi)\n",
    "    z = r * np.cos(theta)\n",
    "    return np.array([x, y, z])\n",
    "\n",
    "def plot_vector(x, y, z, **kw):\n",
    "    line = plt.plot([0.0, x], [0.0, y], [0.0, z], **kw)\n",
    "    dot = plt.plot([x], [y], [z], marker='o', zorder=1000, **kw)\n",
    "    return line, dot\n",
    "    \n",
    "def plot_vector_sph(theta, phi, **kw):\n",
    "    r = kw.pop('r', 1.0)\n",
    "    plot_vector(*spher_to_cart(theta, phi, r), **kw)"
   ]
  },
  {
   "cell_type": "code",
   "execution_count": null,
   "metadata": {
    "collapsed": false
   },
   "outputs": [],
   "source": [
    "fig, ax = init_bloch_sphere()\n",
    "plot_vector_sph(0.0,-np.pi/2)"
   ]
  },
  {
   "cell_type": "code",
   "execution_count": null,
   "metadata": {
    "collapsed": false
   },
   "outputs": [],
   "source": [
    "fig, ax = init_bloch_sphere()\n",
    "\n",
    "(line,) = plt.plot([], [], [], color='C1', animated=True, linewidth=5)\n",
    "(dot,) = plt.plot([], [], [], marker='o', zorder=1000, color='C1')\n",
    "\n",
    "def general_update(theta, phi):\n",
    "    x, y, z = spher_to_cart(theta, phi)\n",
    "    line.set_data([0.0, x], [0.0, y])\n",
    "    line.set_3d_properties([0.0, z])\n",
    "    dot.set_data([x], [y])\n",
    "    dot.set_3d_properties([z])\n",
    "    \n",
    "ani = animation.FuncAnimation(fig, lambda t: general_update(t, -np.pi/2), frames=np.linspace(0, np.pi, 100), interval=20)\n",
    "\n",
    "ani.save(\"simple-pi.mp4\")\n",
    "\n",
    "from IPython.display import HTML\n",
    "HTML(ani.to_jshtml())"
   ]
  },
  {
   "cell_type": "markdown",
   "metadata": {},
   "source": [
    "## Numerical integration of Hamiltonians"
   ]
  },
  {
   "cell_type": "code",
   "execution_count": null,
   "metadata": {
    "collapsed": false
   },
   "outputs": [],
   "source": [
    "sx = np.array([[0, 1],  [ 1, 0]], dtype=np.complex128)\n",
    "sy = np.array([[0, -1j],[1j, 0]], dtype=np.complex128)\n",
    "sz = np.array([[1, 0],  [0, -1]], dtype=np.complex128)\n",
    "si = np.array([[1, 0],  [ 0, 1]], dtype=np.complex128)\n",
    "S = np.stack((sx, sy, sz), axis=0)\n",
    "\n",
    "def x(t):\n",
    "    return np.zeros_like(t)\n",
    "\n",
    "def y(t):\n",
    "    return np.zeros_like(t)\n",
    "\n",
    "def z(t):\n",
    "    return np.ones_like(t) * 0.1\n",
    "\n",
    "def calc_ev_ops(H_pauli, dt):\n",
    "    N = H_pauli.shape[0]\n",
    "    # we expect the hamiltonian in pauli-decomposed form [x, y, z]\n",
    "    \n",
    "    H_norms = np.linalg.norm(H_pauli, axis=1).reshape(-1, 1)\n",
    "    angles = H_norms * dt\n",
    "    \n",
    "    H_pauli_normed = H_pauli / H_norms\n",
    "    # is h_norm is 0, we get infinities\n",
    "    # but in that case the rotation angle h_norm * dt is also zero\n",
    "    # so we don't really care about the rotation axis and we can set\n",
    "    # the infinities to zero\n",
    "    H_pauli_normed[~np.isfinite(H_pauli_normed)] = 0.0 \n",
    "    R_matrix = np.tensordot(H_pauli_normed, S, axes=([1], [0]))\n",
    "    \n",
    "    eyes = np.repeat(np.eye(2)[np.newaxis,:,:], N, axis=0)\n",
    "    \n",
    "    ev_ops = np.cos(angles).reshape(-1, 1, 1) * eyes + 1j * np.sin(angles).reshape(-1, 1, 1) * R_matrix\n",
    "    \n",
    "    return ev_ops\n",
    "\n",
    "@jit(nopython=True)\n",
    "def accumulate_ev_ops(ev_ops):\n",
    "    N = ev_ops.shape[0]\n",
    "    \n",
    "    # complicated way of getting the dtype right for np.eye,\n",
    "    # apparently, numba doesn't support the dtype parameter for np.eye\n",
    "    acc_op = np.zeros((2,2), dtype=np.complex128)\n",
    "    acc_op[:,:] += np.eye(2)\n",
    "    \n",
    "    for i in range(N):\n",
    "        acc_op = np.dot(acc_op, ev_ops[i,:,:])\n",
    "        \n",
    "    return acc_op\n",
    "\n",
    "@jit(nopython=True)\n",
    "def accumulate_ev_ops_over_state(ev_ops, state):\n",
    "    N = ev_ops.shape[0]\n",
    "    result = np.zeros((N+1, 2), dtype=np.complex128)\n",
    "    \n",
    "    result[0,:] = state\n",
    "    for i in range(N):\n",
    "        result[i+1,:] = np.dot(ev_ops[i,:,:], result[i,:])\n",
    "        \n",
    "    return result"
   ]
  },
  {
   "cell_type": "code",
   "execution_count": null,
   "metadata": {
    "collapsed": false
   },
   "outputs": [],
   "source": [
    "ts = np.linspace(0,np.pi/50, int(1e4))\n",
    "dt = np.diff(ts)[0]\n",
    "H_pauli = np.zeros((len(ts), 3))\n",
    "H_pauli[:,0] = x(ts)\n",
    "H_pauli[:,1] = y(ts)\n",
    "H_pauli[:,2] = z(ts)\n",
    "\n",
    "ev_ops = calc_ev_ops(H_pauli, dt)\n",
    "acc_ev_op = accumulate_ev_ops(ev_ops)\n",
    "\n",
    "ev_N = 100\n",
    "plot_ev_ops = np.repeat(acc_ev_op[np.newaxis, :, :], ev_N, axis=0)\n",
    "\n",
    "psi_0 = np.ones((2)) / np.sqrt(2)\n",
    "\n",
    "psi_t = accumulate_ev_ops_over_state(plot_ev_ops, psi_0)"
   ]
  },
  {
   "cell_type": "code",
   "execution_count": null,
   "metadata": {
    "collapsed": false
   },
   "outputs": [],
   "source": [
    "def state_vector_to_bloch_angles(v):\n",
    "    orig_shape = v.shape\n",
    "    v = v.reshape(-1, 2)\n",
    "    results = np.zeros_like(v, dtype=np.float64)\n",
    "    \n",
    "    results[:,0] = 2*np.arccos(np.abs(v[:,0]))\n",
    "    results[:,1] = np.angle(v[:,1]) - np.angle(v[:,0])\n",
    "    \n",
    "    return results.reshape(orig_shape)"
   ]
  },
  {
   "cell_type": "markdown",
   "metadata": {},
   "source": [
    "## Plot numerical solution"
   ]
  },
  {
   "cell_type": "code",
   "execution_count": null,
   "metadata": {
    "collapsed": false
   },
   "outputs": [],
   "source": [
    "# plot parameters\n",
    "axis_width = 5     # line width of the plotted precession axes\n",
    "qubit_width = 2    # line width of the qubit state vector\n",
    "qubit_marker = 5   # marker size of the qubit state vector endpoint\n",
    "\n",
    "fig, ax = init_bloch_sphere()\n",
    "\n",
    "(qb_line,) = plt.plot([], [], [], color='g', animated=True, linewidth=qubit_width)\n",
    "(qb_dot,) = plt.plot([], [], [], color='g', animated=True, marker='o', markersize=qubit_marker, linestyle='')\n",
    "\n",
    "def spher_to_cart_rotating_frame(theta, phi, r=1.0, rot_phase=0.0):\n",
    "    x = r * np.sin(theta) * np.cos(phi - rot_phase)\n",
    "    y = r * np.sin(theta) * np.sin(phi - rot_phase)\n",
    "    z = r * np.cos(theta)\n",
    "    return np.array([x, y, z])\n",
    "\n",
    "def update_line(line, c):\n",
    "    line.set_data([0.0, c[0]], [0.0, c[1]])\n",
    "    line.set_3d_properties([0.0, c[2]])\n",
    "    line.set_zorder(-c[1]+100)\n",
    "    \n",
    "def update_point(point, c):\n",
    "    point.set_data(c[0:2])\n",
    "    point.set_3d_properties(c[2:3])\n",
    "\n",
    "def update(i):\n",
    "    psi = psi_t[i,:]\n",
    "    psi_bloch_s = state_vector_to_bloch_angles(psi)\n",
    "    psi_bloch_c = spher_to_cart(psi_bloch_s[0], psi_bloch_s[1])\n",
    "    \n",
    "    update_line(qb_line, psi_bloch_c)\n",
    "    update_point(qb_dot, psi_bloch_c)\n",
    "    \n",
    "    \n",
    "ani = animation.FuncAnimation(fig, update, frames=np.arange(100), interval=20)\n",
    "\n",
    "HTML(ani.to_jshtml())"
   ]
  },
  {
   "cell_type": "code",
   "execution_count": null,
   "metadata": {
    "collapsed": false
   },
   "outputs": [],
   "source": [
    "%debug"
   ]
  },
  {
   "cell_type": "markdown",
   "metadata": {},
   "source": [
    "## Lab frame with axes"
   ]
  },
  {
   "cell_type": "code",
   "execution_count": null,
   "metadata": {
    "collapsed": false
   },
   "outputs": [],
   "source": [
    "# physical parameters\n",
    "w_0 = 1.0        # S_z qubit frequency\n",
    "w_R = 0.0        # rotating frame frequency\n",
    "w_D = 1.0        # drive frequency\n",
    "H_1 = 0.5        # drive strength (static for now) in units of H_1/w_0 (i.e. w_0 is scaled to 1)\n",
    "\n",
    "# plot parameters\n",
    "axis_width = 5     # line width of the plotted precession axes\n",
    "qubit_width = 2    # line width of the qubit state vector\n",
    "\n",
    "fig, ax = init_bloch_sphere()\n",
    "\n",
    "# define plot elements\n",
    "# static magnetic field precession axis\n",
    "(w_0_line,) = plt.plot([], [], [], color='k', animated=True, linewidth=axis_width)\n",
    "(w_0_dot,) = plt.plot([0.0], [0.0], [0.0], color='k', animated=True, marker='o', markersize=2*axis_width, linestyle='', zorder=1000)\n",
    "# drive field precession axis\n",
    "(w_D_line,) = plt.plot([], [], [], color='r', animated=True, linewidth=axis_width)\n",
    "# qubit state vector\n",
    "(qb_line,) = plt.plot([], [], [], color='g', animated=True, linewidth=qubit_width)\n",
    "\n",
    "def spher_to_cart_rotating_frame(theta, phi, r=1.0, rot_phase=0.0):\n",
    "    x = r * np.sin(theta) * np.cos(phi - rot_phase)\n",
    "    y = r * np.sin(theta) * np.sin(phi - rot_phase)\n",
    "    z = r * np.cos(theta)\n",
    "    return np.array([x, y, z])\n",
    "\n",
    "def update_line(line, c):\n",
    "    line.set_data([0.0, c[0]], [0.0, c[1]])\n",
    "    line.set_3d_properties([0.0, c[2]])\n",
    "    line.set_zorder(-c[1]+100)\n",
    "\n",
    "def update(t):\n",
    "    # update the plot for a new frame at time t\n",
    "    # first we calculate all coordinates in spherical coordinates (to facilitate the rotating frame transformation)\n",
    "    # [theta, phi, r]\n",
    "    w_0_angles = [0.0, 0.0, 1.0]\n",
    "    w_D_angles = [np.pi / 2, w_D * t, H_1]\n",
    "    \n",
    "    # apply rotating frame transformation and convert to cartesian coords for plotting\n",
    "    rotating_frame_phase = w_R * t\n",
    "    w_0_coords = spher_to_cart_rotating_frame(*w_0_angles, rot_phase=rotating_frame_phase)\n",
    "    w_D_coords = spher_to_cart_rotating_frame(*w_D_angles, rot_phase=rotating_frame_phase)\n",
    "    \n",
    "    # update plot\n",
    "    update_line(w_0_line, w_0_coords)\n",
    "    update_line(w_D_line, w_D_coords)\n",
    "    \n",
    "ani = animation.FuncAnimation(fig, update, frames=np.linspace(0, 2*np.pi, 100), interval=20)\n",
    "\n",
    "HTML(ani.to_jshtml())"
   ]
  },
  {
   "cell_type": "code",
   "execution_count": null,
   "metadata": {
    "collapsed": false
   },
   "outputs": [],
   "source": [
    "A = np.array([\n",
    "    [1, 2, 3, 4],\n",
    "    [5, 6, 7, 8]\n",
    "])\n",
    "\n",
    "B = np.array([\n",
    "    [1, 2, 1, 2],\n",
    "    [2, 1, 2, 1]\n",
    "])\n",
    "\n",
    "np.tensordot(A, B, axes=([1], [1]))"
   ]
  },
  {
   "cell_type": "code",
   "execution_count": null,
   "metadata": {
    "collapsed": false
   },
   "outputs": [],
   "source": [
    "np.tensordot(A[1,:], B[1,:], axes=([0], [0]))"
   ]
  },
  {
   "cell_type": "code",
   "execution_count": null,
   "metadata": {
    "collapsed": true
   },
   "outputs": [],
   "source": [
    "np.tensordot?"
   ]
  },
  {
   "cell_type": "code",
   "execution_count": null,
   "metadata": {
    "collapsed": true
   },
   "outputs": [],
   "source": [
    "np.einsum?"
   ]
  },
  {
   "cell_type": "code",
   "execution_count": null,
   "metadata": {
    "collapsed": true
   },
   "outputs": [],
   "source": [
    "def multiply_idpauli_matrices(A, B):\n",
    "    orig_shape = A.shape\n",
    "    A = A.reshape(-1, 4)\n",
    "    B = B.reshape(-1, 4)\n",
    "    N = A.shape[0]\n",
    "\n",
    "    B_indices = np.array([\n",
    "        [0, 1, 2, 3],\n",
    "        [1, 0, 3, 2],\n",
    "        [2, 3, 0, 1],\n",
    "        [3, 2, 1, 0]\n",
    "    ], dtype=np.int)\n",
    "\n",
    "    B_prefactors = np.array([\n",
    "        [1,   1,    1,   1],\n",
    "        [1,   1,   1j, -1j],\n",
    "        [1, -1j,    1,  1j],\n",
    "        [1,  1j,  -1j,   1],\n",
    "    ], dtype=np.complex128)\n",
    "\n",
    "    C = np.zeros((N, 4), dtype=np.complex128)\n",
    "\n",
    "    for i in range(4):\n",
    "        indices = B_indices[i,:]\n",
    "        prefactors = B_prefactors[i,:]\n",
    "        C[:,i] = np.einsum('ij,ij->i', A, B[:, indices] * prefactors[np.newaxis, :])\n",
    "\n",
    "    return C.reshape(orig_shape)"
   ]
  },
  {
   "cell_type": "code",
   "execution_count": null,
   "metadata": {
    "collapsed": false
   },
   "outputs": [],
   "source": [
    "C = multiply_idpauli_matrices(A, B)"
   ]
  },
  {
   "cell_type": "code",
   "execution_count": null,
   "metadata": {
    "collapsed": false
   },
   "outputs": [],
   "source": [
    "# Pauli matrices\n",
    "sx = np.array([[0, 1], [1, 0]], dtype=np.complex128)\n",
    "sy = np.array([[0, -1j], [1j, 0]], dtype=np.complex128)\n",
    "sz = np.array([[1, 0], [0, -1]], dtype=np.complex128)\n",
    "si = np.array([[1, 0], [0, 1]], dtype=np.complex128)\n",
    "S = np.stack((sx, sy, sz), axis=0)\n",
    "Sid = np.stack((si, sx, sy, sz), axis=0)"
   ]
  },
  {
   "cell_type": "code",
   "execution_count": null,
   "metadata": {
    "collapsed": false
   },
   "outputs": [],
   "source": [
    "A_matrix = np.tensordot(A, Sid, axes=([1], [0]))\n",
    "B_matrix = np.tensordot(B, Sid, axes=([1], [0]))\n",
    "C_matrix = np.tensordot(C, Sid, axes=([1], [0]))"
   ]
  },
  {
   "cell_type": "code",
   "execution_count": null,
   "metadata": {
    "collapsed": false
   },
   "outputs": [],
   "source": [
    "np.dot(A_matrix[0,:,:], B_matrix[0,:,:])"
   ]
  },
  {
   "cell_type": "code",
   "execution_count": null,
   "metadata": {
    "collapsed": false
   },
   "outputs": [],
   "source": [
    "C_matrix[0,:,:]"
   ]
  },
  {
   "cell_type": "code",
   "execution_count": null,
   "metadata": {
    "collapsed": false
   },
   "outputs": [],
   "source": [
    "F = np.arange(3, dtype=np.complex128).reshape(3)\n",
    "ang = np.arange(2, dtype=np.complex128)+1"
   ]
  },
  {
   "cell_type": "code",
   "execution_count": null,
   "metadata": {
    "collapsed": false
   },
   "outputs": [],
   "source": [
    "ang[:,np.newaxis].shape"
   ]
  },
  {
   "cell_type": "code",
   "execution_count": null,
   "metadata": {
    "collapsed": false
   },
   "outputs": [],
   "source": [
    "def calc_rotation_matrices_pauli(angles, ax_R):\n",
    "    N = len(angles)\n",
    "    result = np.zeros((N, 4), dtype=np.complex128)\n",
    "\n",
    "    result[:,0] = np.cos(angles)\n",
    "    result[:,1:4] = 1j * np.sin(angles).reshape(-1, 1) * ax_R.reshape(-1, 3)\n",
    "\n",
    "    return result"
   ]
  },
  {
   "cell_type": "code",
   "execution_count": null,
   "metadata": {
    "collapsed": false
   },
   "outputs": [],
   "source": [
    "ax = [0., 1., 1.]\n",
    "ax = np.array(ax)\n",
    "ax = ax / np.linalg.norm(ax)\n",
    "\n",
    "\n",
    "H = np.array([\n",
    "    [0.0, 0.1, 0.0, 1.0]\n",
    "])\n",
    "\n",
    "\n",
    "R1 = calc_rotation_matrices_pauli(np.array([0.5]), ax)\n",
    "R2 = calc_rotation_matrices_pauli(np.array([-0.5]), ax)"
   ]
  },
  {
   "cell_type": "code",
   "execution_count": null,
   "metadata": {
    "collapsed": false
   },
   "outputs": [],
   "source": [
    "multiply_idpauli_matrices(R1, multiply_idpauli_matrices(H, R2))"
   ]
  },
  {
   "cell_type": "code",
   "execution_count": null,
   "metadata": {
    "collapsed": false
   },
   "outputs": [],
   "source": [
    "R2"
   ]
  },
  {
   "cell_type": "code",
   "execution_count": null,
   "metadata": {
    "collapsed": true
   },
   "outputs": [],
   "source": [
    "init_b"
   ]
  }
 ],
 "metadata": {
  "kernelspec": {
   "display_name": "Python 2",
   "language": "python",
   "name": "python2"
  },
  "language_info": {
   "codemirror_mode": {
    "name": "ipython",
    "version": 2
   },
   "file_extension": ".py",
   "mimetype": "text/x-python",
   "name": "python",
   "nbconvert_exporter": "python",
   "pygments_lexer": "ipython2",
   "version": "2.7.13"
  }
 },
 "nbformat": 4,
 "nbformat_minor": 2
}
