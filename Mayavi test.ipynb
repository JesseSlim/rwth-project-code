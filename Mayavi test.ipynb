{
 "cells": [
  {
   "cell_type": "code",
   "execution_count": null,
   "metadata": {
    "collapsed": false
   },
   "outputs": [],
   "source": [
    "# Author: Gael Varoquaux <gael.varoquaux@normalesup.org>\n",
    "# Copyright (c) 2009, Enthought, Inc.\n",
    "# License: BSD Style.\n",
    "\n",
    "import numpy as np\n",
    "\n",
    "# Create data with x and y random in the [-2, 2] segment, and z a\n",
    "# Gaussian function of x and y.\n",
    "np.random.seed(12345)\n",
    "x = 4 * (np.random.random(500) - 0.5)\n",
    "y = 4 * (np.random.random(500) - 0.5)\n",
    "\n",
    "\n",
    "def f(x, y):\n",
    "    return np.exp(-(x ** 2 + y ** 2))\n",
    "\n",
    "z = f(x, y)\n",
    "\n",
    "from mayavi import mlab\n",
    "mlab.figure(1, fgcolor=(0, 0, 0), bgcolor=(1, 1, 1))\n",
    "\n",
    "# Visualize the points\n",
    "pts = mlab.points3d(x, y, z, z, scale_mode='none', scale_factor=0.2)\n",
    "\n",
    "# Create and visualize the mesh\n",
    "mesh = mlab.pipeline.delaunay2d(pts)\n",
    "surf = mlab.pipeline.surface(mesh)\n",
    "\n",
    "mlab.view(47, 57, 8.2, (0.1, 0.15, 0.14))\n",
    "mlab.show()"
   ]
  },
  {
   "cell_type": "code",
   "execution_count": null,
   "metadata": {
    "collapsed": true
   },
   "outputs": [],
   "source": []
  }
 ],
 "metadata": {
  "kernelspec": {
   "display_name": "Python 2",
   "language": "python",
   "name": "python2"
  },
  "language_info": {
   "codemirror_mode": {
    "name": "ipython",
    "version": 2
   },
   "file_extension": ".py",
   "mimetype": "text/x-python",
   "name": "python",
   "nbconvert_exporter": "python",
   "pygments_lexer": "ipython2",
   "version": "2.7.13"
  }
 },
 "nbformat": 4,
 "nbformat_minor": 2
}
